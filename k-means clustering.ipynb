{
 "cells": [
  {
   "cell_type": "markdown",
   "id": "04419f80",
   "metadata": {},
   "source": [
    "# Kmeans"
   ]
  },
  {
   "cell_type": "code",
   "execution_count": 78,
   "id": "75dd9dd8",
   "metadata": {},
   "outputs": [],
   "source": [
    "import pandas as pd\n",
    "import numpy as np\n",
    "from numpy import random\n",
    "from math import sqrt\n",
    "import matplotlib.pyplot as plt\n",
    "import matplotlib\n",
    "import copy"
   ]
  },
  {
   "cell_type": "code",
   "execution_count": 3,
   "id": "1a217fdb",
   "metadata": {},
   "outputs": [],
   "source": [
    "complete_customer_data = pd.read_csv('Mall_Customers.csv')"
   ]
  },
  {
   "cell_type": "code",
   "execution_count": 4,
   "id": "1434bda3",
   "metadata": {},
   "outputs": [],
   "source": [
    "customer_data = complete_customer_data.iloc[:,3:5]\n",
    "samples, features = customer_data.shape\n",
    "customer_datan=customer_data.to_numpy()"
   ]
  },
  {
   "cell_type": "code",
   "execution_count": 5,
   "id": "de84772e",
   "metadata": {},
   "outputs": [],
   "source": [
    "#mention no. of clusters\n",
    "K = 5"
   ]
  },
  {
   "cell_type": "code",
   "execution_count": 6,
   "id": "9e3f8eee",
   "metadata": {},
   "outputs": [],
   "source": [
    "#initialize centroid\n",
    "def init_centroid(samples, features, customer_datan,K):\n",
    "    centroid = []\n",
    "    for i in range(K):\n",
    "        rand = random.randint(samples)\n",
    "        centroid.append(customer_datan[rand])\n",
    "    return np.array(centroid)"
   ]
  },
  {
   "cell_type": "code",
   "execution_count": 7,
   "id": "e6faa0b9",
   "metadata": {},
   "outputs": [],
   "source": [
    "#calculate distance for all\n",
    "def cal_dist(customer_datan, samples, centroid, features, K):\n",
    "    dist = np.zeros((samples, K))\n",
    "    for k in range(K):\n",
    "        for i in range(samples):\n",
    "            sum = 0\n",
    "            for j in range(features):\n",
    "                sum+= (customer_datan[i][j] - centroid[k][j])**2\n",
    "            dist[i][k] = sqrt(sum)\n",
    "    return dist"
   ]
  },
  {
   "cell_type": "code",
   "execution_count": 8,
   "id": "77796efe",
   "metadata": {},
   "outputs": [],
   "source": [
    "#calculate new centroid\n",
    "def cal_centroid(dataset,K,centroid):\n",
    "    for i in range(K):\n",
    "        rows = np.where(dataset[:,2]==i)\n",
    "        centroid[i] = np.reshape((np.mean(dataset[rows],axis=0)),(1,3))[:,[0,1]]\n",
    "    return centroid\n",
    "    "
   ]
  },
  {
   "cell_type": "code",
   "execution_count": 97,
   "id": "bf7e2c30",
   "metadata": {},
   "outputs": [
    {
     "name": "stdout",
     "output_type": "stream",
     "text": [
      "5\n"
     ]
    }
   ],
   "source": [
    "centroid = init_centroid(samples, features,customer_datan,K)\n",
    "dist = cal_dist(customer_datan, samples, centroid, features, K)\n",
    "min_dist_index = np.reshape(np.argmin(dist, axis=1),(samples,1))\n",
    "dataset = np.append(customer_datan,min_dist_index,axis=1)\n",
    "\n",
    "for i in range(100):\n",
    "    old_centroid = copy.deepcopy(centroid)\n",
    "    dist = cal_dist(customer_datan, samples, centroid, features, K)\n",
    "    min_dist_index = np.reshape(np.argmin(dist, axis=1),(samples,1))\n",
    "    dataset = np.append(customer_datan,min_dist_index,axis=1)\n",
    "    centroid = cal_centroid(dataset,K,centroid)\n",
    "    if np.array_equal(old_centroid,centroid):\n",
    "        print(i)\n",
    "        break\n",
    "    \n"
   ]
  },
  {
   "cell_type": "code",
   "execution_count": 98,
   "id": "8fec6035",
   "metadata": {},
   "outputs": [
    {
     "data": {
      "image/png": "[encoded data removed]",
      "text/plain": [
       "<Figure size 432x288 with 1 Axes>"
      ]
     },
     "metadata": {
      "needs_background": "light"
     },
     "output_type": "display_data"
    }
   ],
   "source": [
    "colors = ['red','green','blue','purple','pink']\n",
    "for i in range(K):\n",
    "    x=dataset[np.where(dataset[:,2]==i)]\n",
    "    plt.scatter(x[:,0], x[:,1], label = i)\n",
    "plt.scatter(centroid[:,0],centroid[:,1],s=100,c='black',label='centroid')\n",
    "plt.xlabel('Income')\n",
    "plt.ylabel('Number of transactions')\n",
    "plt.legend()\n",
    "plt.show()"
   ]
  },
  {
   "cell_type": "code",
   "execution_count": null,
   "id": "7d4e7fda",
   "metadata": {},
   "outputs": [],
   "source": []
  },
  {
   "cell_type": "code",
   "execution_count": null,
   "id": "f8d77832",
   "metadata": {},
   "outputs": [],
   "source": []
  },
  {
   "cell_type": "code",
   "execution_count": null,
   "id": "5dbdc579",
   "metadata": {},
   "outputs": [],
   "source": []
  }
 ],
 "metadata": {
  "kernelspec": {
   "display_name": "Python 3 (ipykernel)",
   "language": "python",
   "name": "python3"
  },
  "language_info": {
   "codemirror_mode": {
    "name": "ipython",
    "version": 3
   },
   "file_extension": ".py",
   "mimetype": "text/x-python",
   "name": "python",
   "nbconvert_exporter": "python",
   "pygments_lexer": "ipython3",
   "version": "3.7.2"
  }
 },
 "nbformat": 4,
 "nbformat_minor": 5
}
