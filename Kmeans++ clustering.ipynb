{
 "cells": [
  {
   "cell_type": "markdown",
   "id": "c51fa0ff",
   "metadata": {},
   "source": [
    "# Kmeans++"
   ]
  },
  {
   "cell_type": "code",
   "execution_count": 90,
   "id": "2f35d3d3",
   "metadata": {},
   "outputs": [],
   "source": [
    "import pandas as pd\n",
    "import numpy as np\n",
    "from numpy import random\n",
    "from math import sqrt\n",
    "import matplotlib.pyplot as plt\n",
    "import matplotlib\n",
    "import copy"
   ]
  },
  {
   "cell_type": "code",
   "execution_count": 77,
   "id": "ffed24d5",
   "metadata": {},
   "outputs": [],
   "source": [
    "#initialize first centroid\n",
    "def init_centroid(test_data, samples, K):\n",
    "    centroid = []\n",
    "    rand = random.randint(samples)\n",
    "    centroid.append(test_data[rand])\n",
    "    return centroid"
   ]
  },
  {
   "cell_type": "code",
   "execution_count": 86,
   "id": "d940f2dc",
   "metadata": {},
   "outputs": [],
   "source": [
    "#calulate distance for each data point wrt centroid and select the max distance point as centroid\n",
    "def cal_ini_centroid(test_data, centroid, K):\n",
    "    for k in range (K-1):\n",
    "        dist = []\n",
    "        for i in range(samples):\n",
    "            temp_dist = []\n",
    "            for points in centroid:\n",
    "                temp_dist.append(cal_eucledian(test_data[i], points, features))\n",
    "            dist.append(temp_dist[np.argmin(temp_dist)])\n",
    "        centroid.append (test_data[np.argmax(dist),:])\n",
    "    return centroid"
   ]
  },
  {
   "cell_type": "code",
   "execution_count": 79,
   "id": "08db432d",
   "metadata": {},
   "outputs": [],
   "source": [
    "def cal_eucledian(test_data, centroid, features):\n",
    "    sum=0\n",
    "    for j in range(features):\n",
    "        sum+= (test_data[j] - centroid[j])**2\n",
    "    return sqrt(sum)\n",
    "    "
   ]
  },
  {
   "cell_type": "code",
   "execution_count": 80,
   "id": "0f02414b",
   "metadata": {},
   "outputs": [],
   "source": [
    "#calculate distance for all\n",
    "def cal_dist(test_data, samples, centroid, features, K):\n",
    "    dist = np.zeros((samples, K))\n",
    "    for k in range(K):\n",
    "        for i in range(samples):\n",
    "            sum = 0\n",
    "            for j in range(features):\n",
    "                sum+= (test_data[i][j] - centroid[k][j])**2\n",
    "            dist[i][k] = sqrt(sum)\n",
    "    return dist"
   ]
  },
  {
   "cell_type": "code",
   "execution_count": 81,
   "id": "c01289db",
   "metadata": {},
   "outputs": [],
   "source": [
    "#calculate new centroid\n",
    "def cal_centroid(dataset,K,centroid):\n",
    "    for i in range(K):\n",
    "        rows = np.where(dataset[:,2]==i)\n",
    "        centroid[i] = np.reshape((np.mean(dataset[rows],axis=0)),(1,3))[:,[0,1]]\n",
    "    return centroid"
   ]
  },
  {
   "cell_type": "code",
   "execution_count": 82,
   "id": "2aef259d",
   "metadata": {},
   "outputs": [],
   "source": [
    "complete_customer_data = pd.read_csv('Mall_Customers.csv')"
   ]
  },
  {
   "cell_type": "code",
   "execution_count": 83,
   "id": "7af31ce5",
   "metadata": {},
   "outputs": [],
   "source": [
    "test_data = complete_customer_data.iloc[:,3:5]\n",
    "samples, features = test_data.shape\n",
    "test_data=test_data.to_numpy()"
   ]
  },
  {
   "cell_type": "code",
   "execution_count": 84,
   "id": "92044375",
   "metadata": {},
   "outputs": [],
   "source": [
    "#mention no. of clusters\n",
    "K = 5"
   ]
  },
  {
   "cell_type": "code",
   "execution_count": 101,
   "id": "f6729544",
   "metadata": {},
   "outputs": [
    {
     "name": "stdout",
     "output_type": "stream",
     "text": [
      "[[ 61  49]\n",
      " [137  83]\n",
      " [120  16]\n",
      " [ 19  99]\n",
      " [ 19   3]]\n",
      "4\n"
     ]
    }
   ],
   "source": [
    "centroid = init_centroid(test_data, samples, K)\n",
    "centroid = np.array(cal_ini_centroid(test_data, centroid, K))\n",
    "print(centroid)\n",
    "dist = cal_dist(test_data, samples, centroid, features, K)\n",
    "min_dist_index = np.reshape(np.argmin(dist, axis=1),(samples,1))\n",
    "dataset = np.append(test_data,min_dist_index,axis=1)\n",
    "\n",
    "for i in range(100):\n",
    "    old_centroid = copy.deepcopy(centroid)\n",
    "    dist = cal_dist(test_data, samples, centroid, features, K)\n",
    "    min_dist_index = np.reshape(np.argmin(dist, axis=1),(samples,1))\n",
    "    dataset = np.append(test_data,min_dist_index,axis=1)\n",
    "    centroid = cal_centroid(dataset,K,centroid)\n",
    "    if np.array_equal(old_centroid,centroid):\n",
    "        print(i)\n",
    "        break\n"
   ]
  },
  {
   "cell_type": "code",
   "execution_count": 102,
   "id": "262919a9",
   "metadata": {},
   "outputs": [
    {
     "data": {
      "image/png": "[encoded data removed]",
      "text/plain": [
       "<Figure size 432x288 with 1 Axes>"
      ]
     },
     "metadata": {
      "needs_background": "light"
     },
     "output_type": "display_data"
    }
   ],
   "source": [
    "colors = ['red','green','blue','purple','pink']\n",
    "for i in range(K):\n",
    "    x=dataset[np.where(dataset[:,2]==i)]\n",
    "    plt.scatter(x[:,0], x[:,1], label = i)\n",
    "plt.scatter(centroid[:,0],centroid[:,1],s=100,c='black',label='centroid')\n",
    "plt.xlabel('Income')\n",
    "plt.ylabel('Number of transactions')\n",
    "plt.legend()\n",
    "plt.show()"
   ]
  },
  {
   "cell_type": "code",
   "execution_count": null,
   "id": "823b629e",
   "metadata": {},
   "outputs": [],
   "source": []
  }
 ],
 "metadata": {
  "kernelspec": {
   "display_name": "Python 3 (ipykernel)",
   "language": "python",
   "name": "python3"
  },
  "language_info": {
   "codemirror_mode": {
    "name": "ipython",
    "version": 3
   },
   "file_extension": ".py",
   "mimetype": "text/x-python",
   "name": "python",
   "nbconvert_exporter": "python",
   "pygments_lexer": "ipython3",
   "version": "3.7.2"
  }
 },
 "nbformat": 4,
 "nbformat_minor": 5
}
